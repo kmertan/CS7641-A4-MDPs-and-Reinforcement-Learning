{
 "cells": [
  {
   "cell_type": "code",
   "execution_count": 53,
   "metadata": {},
   "outputs": [],
   "source": [
    "# -*- coding: utf-8 -*-\n",
    "\"\"\"\n",
    "Created on Sat Apr 22 22:57:10 2017\n",
    "\n",
    "@author: Jon\n",
    "\"\"\"\n",
    "\n",
    "import pickle as pkl\n",
    "import matplotlib.pyplot as plt\n",
    "import numpy as np\n",
    "\n",
    "infile = './Solution/Policy Easy Iter 43 Policy Map.pkl'\n",
    "\n",
    "def plotPolicy(infile, title, saveFile = None):\n",
    "    with open(infile,'rb') as f:\n",
    "        arr = pkl.load(f, encoding='latin1')\n",
    "\n",
    "    lookup = {'None': (0,0),\n",
    "              '>': (1,0),\n",
    "            'v': (0,-1),\n",
    "            '^':(0,1),\n",
    "            '<':(-1,0)}    \n",
    "\n",
    "    n= len(arr)\n",
    "    arr = np.array(arr)    \n",
    "    X, Y = np.meshgrid(range(1,n+1), range(1,n+1))    \n",
    "    U = X.copy()\n",
    "    V = Y.copy()\n",
    "    for i in range(n):\n",
    "        for j in range(n):\n",
    "            U[i,j]=lookup[arr[n-i-1,j]][0]\n",
    "            V[i,j]=lookup[arr[n-i-1,j]][1]\n",
    "\n",
    "    plt.figure()\n",
    "    #plt.title('Arrows scale with plot width, not view')\n",
    "    Q = plt.quiver(X, Y, U, V,headaxislength=5,pivot='mid',angles='xy', scale_units='xy', scale=1)\n",
    "    plt.xlim((0,n+1))\n",
    "    plt.ylim((0,n+1))\n",
    "    plt.title(title)\n",
    "    plt.tight_layout()\n",
    "    #plt.title(title)\n",
    "\n",
    "    if saveFile:\n",
    "        plt.savefig(saveFile)\n",
    "        \n",
    "    else:\n",
    "        plt.show()"
   ]
  },
  {
   "cell_type": "code",
   "execution_count": 58,
   "metadata": {},
   "outputs": [],
   "source": [
    "policy = './Solution/Policy Easy Iter 28 Policy Map.pkl'\n",
    "title = 'Easy Grid World\\nConverged Policy Iteration - Iteration 28'\n",
    "saveFile = './Solution/Easy Policy Converged.png'\n",
    "\n",
    "plotPolicy(policy, title, saveFile)"
   ]
  },
  {
   "cell_type": "code",
   "execution_count": 59,
   "metadata": {},
   "outputs": [],
   "source": [
    "policy = './Solution/Value Easy Iter 62 Policy Map.pkl'\n",
    "title = 'Easy Grid World\\nConverged Value Iteration - Iteration 62'\n",
    "saveFile = './Solution/Easy Value Converged.png'\n",
    "\n",
    "plotPolicy(policy, title, saveFile)"
   ]
  },
  {
   "cell_type": "code",
   "execution_count": 60,
   "metadata": {},
   "outputs": [],
   "source": [
    "policy = './Solution/Policy Hard Iter 32 Policy Map.pkl'\n",
    "title = 'Hard Grid World\\nConverged Policy Iteration - Iteration 32'\n",
    "saveFile = './Solution/Hard Policy Converged.png'\n",
    "\n",
    "plotPolicy(policy, title, saveFile)"
   ]
  },
  {
   "cell_type": "code",
   "execution_count": 61,
   "metadata": {},
   "outputs": [],
   "source": [
    "policy = './Solution/Value Hard Iter 121 Policy Map.pkl'\n",
    "title = 'Hard Grid World\\nConverged Value Iteration - Iteration 121'\n",
    "saveFile = './Solution/Hard Value Converged.png'\n",
    "\n",
    "plotPolicy(policy, title, saveFile)"
   ]
  },
  {
   "cell_type": "code",
   "execution_count": 66,
   "metadata": {},
   "outputs": [],
   "source": [
    "policy = './Solution/QL Q-Learning L0.1 q100.0 E0.5 Easy Iter 1000 Policy Map.pkl'\n",
    "title = 'Easy Grid World\\nQ-Learning - Iteration 1000'\n",
    "saveFile = './Solution/Easy Q Converged.png'\n",
    "\n",
    "plotPolicy(policy, title, saveFile)"
   ]
  },
  {
   "cell_type": "code",
   "execution_count": 64,
   "metadata": {},
   "outputs": [],
   "source": [
    "policy = './Solution/QL Q-Learning L0.1 q100.0 E0.1 Hard Iter 6000 Policy Map.pkl'\n",
    "title = 'Hard Grid World\\nQ-Learning - Iteration 6000'\n",
    "saveFile = './Solution/Hard Q Converged.png'\n",
    "\n",
    "plotPolicy(policy, title, saveFile)"
   ]
  },
  {
   "cell_type": "code",
   "execution_count": null,
   "metadata": {},
   "outputs": [],
   "source": []
  }
 ],
 "metadata": {
  "kernelspec": {
   "display_name": "Python 3",
   "language": "python",
   "name": "python3"
  },
  "language_info": {
   "codemirror_mode": {
    "name": "ipython",
    "version": 3
   },
   "file_extension": ".py",
   "mimetype": "text/x-python",
   "name": "python",
   "nbconvert_exporter": "python",
   "pygments_lexer": "ipython3",
   "version": "3.6.3"
  }
 },
 "nbformat": 4,
 "nbformat_minor": 2
}
